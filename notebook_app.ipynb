{
 "metadata": {
  "kernelspec": {
   "display_name": "Streamlit Notebook",
   "name": "streamlit"
  }
 },
 "nbformat_minor": 5,
 "nbformat": 4,
 "cells": [
  {
   "cell_type": "code",
   "id": "3775908f-ca36-4846-8f38-5adca39217f2",
   "metadata": {
    "language": "python",
    "name": "cell1",
    "collapsed": false,
    "resultHeight": 0
   },
   "source": "# Import python packages\nimport streamlit as st\nimport pandas as pd\n\n# We can also use Snowpark for our analyses!\nfrom snowflake.snowpark.context import get_active_session\nsession = get_active_session()\n",
   "execution_count": null,
   "outputs": []
  },
  {
   "cell_type": "code",
   "id": "8d50cbf4-0c8d-4950-86cb-114990437ac9",
   "metadata": {
    "language": "sql",
    "name": "cell2",
    "collapsed": false,
    "resultHeight": 181
   },
   "source": "-- Welcome to Snowflake Notebooks!\n-- Try out a SQL cell to generate some data.\nSELECT 'FRIDAY' as SNOWDAY, 0.2 as CHANCE_OF_SNOW\nUNION ALL\nSELECT 'SATURDAY',0.5\nUNION ALL \nSELECT 'SUNDAY', 0.9;",
   "execution_count": null,
   "outputs": []
  },
  {
   "cell_type": "code",
   "id": "c695373e-ac74-4b62-a1f1-08206cbd5c81",
   "metadata": {
    "language": "python",
    "name": "cell3",
    "collapsed": false,
    "resultHeight": 465
   },
   "source": "# Then, we can use the python name to turn cell2 into a Pandas dataframe\nmy_df = cell2.to_pandas()\n\n# Chart the data\nst.subheader(\"Chance of SNOW ❄️\")\nst.line_chart(my_df, x='SNOWDAY', y='CHANCE_OF_SNOW')\n\n# Give it a go!\nst.subheader(\"Try it out yourself and show off your skills 🥇\")",
   "execution_count": null,
   "outputs": []
  },
  {
   "cell_type": "code",
   "id": "79a41495-4e1e-48d5-8ea5-2dcaedf9f91b",
   "metadata": {
    "language": "sql",
    "name": "cell4",
    "resultHeight": 111
   },
   "outputs": [],
   "source": "USE ROLE SYSADMIN;\nCREATE SCHEMA BLAZEJ_DEV.FORECAST_EXAMPLE;",
   "execution_count": null
  },
  {
   "cell_type": "code",
   "id": "56dd9458-b347-4c02-8eef-e070b04c5a7c",
   "metadata": {
    "language": "sql",
    "name": "cell5",
    "collapsed": false,
    "resultHeight": 111
   },
   "outputs": [],
   "source": "CREATE OR REPLACE FILE FORMAT BLAZEJ_DEV.FORECAST_EXAMPLE.CSV_FF\n    type = 'csv'\n    SKIP_HEADER = 1,\n    COMPRESSION = AUTO;\n\n\nCREATE OR REPLACE STAGE BLAZEJ_DEV.FORECAST_EXAMPLE.LOAD_STAGE\n    url = 's3://sfquickstarts/frostbyte_tastybytes/mlpf_quickstart/'\n    file_format = BLAZEJ_DEV.FORECAST_EXAMPLE.CSV_FF;",
   "execution_count": null
  },
  {
   "cell_type": "code",
   "id": "1f0f7fba-dcce-431e-872f-3c6d7ddc517f",
   "metadata": {
    "language": "sql",
    "name": "cell6",
    "resultHeight": 111
   },
   "outputs": [],
   "source": "CREATE OR REPLACE TABLE BLAZEJ_DEV.FORECAST_EXAMPLE.TASTY_BYTES_SALES(\n  \tDATE DATE,\n\tPRIMARY_CITY VARCHAR(16777216),\n\tMENU_ITEM_NAME VARCHAR(16777216),\n\tTOTAL_SOLD NUMBER(17,0)\n);",
   "execution_count": null
  },
  {
   "cell_type": "code",
   "id": "a889cf5b-d6a8-4d18-95f1-624c4186ce63",
   "metadata": {
    "language": "sql",
    "name": "cell7",
    "resultHeight": 426
   },
   "outputs": [],
   "source": "COPY INTO BLAZEJ_DEV.FORECAST_EXAMPLE.TASTY_BYTES_SALES\n    FROM @BLAZEJ_DEV.FORECAST_EXAMPLE.LOAD_STAGE/ml_functions_quickstart.csv;\n\nSELECT * FROM BLAZEJ_DEV.FORECAST_EXAMPLE.TASTY_BYTES_SALES LIMIT 10;",
   "execution_count": null
  },
  {
   "cell_type": "code",
   "id": "b27f1b6d-965b-4cc9-af11-63080a539c4f",
   "metadata": {
    "language": "sql",
    "name": "cell8",
    "resultHeight": 510
   },
   "outputs": [],
   "source": "CREATE OR REPLACE TABLE BLAZEJ_DEV.FORECAST_EXAMPLE.VANCOUVER_SALES AS (\n    SELECT\n        to_timestamp_ntz(date) AS timestamp,\n        primary_city,\n        menu_item_name,\n        total_sold\n    FROM\n        BLAZEJ_DEV.FORECAST_EXAMPLE.TASTY_BYTES_SALES\n    WHERE\n        date > (SELECT max(date) - interval '1 year' FROM BLAZEJ_DEV.FORECAST_EXAMPLE.TASTY_BYTES_SALES)\n    GROUP BY ALL\n);\n\nSELECT * FROM BLAZEJ_DEV.FORECAST_EXAMPLE.VANCOUVER_SALES;",
   "execution_count": null
  },
  {
   "cell_type": "code",
   "id": "c5274c20-647d-482f-8325-acba997f0a8e",
   "metadata": {
    "language": "sql",
    "name": "cell9",
    "resultHeight": 111
   },
   "outputs": [],
   "source": "CREATE OR REPLACE VIEW BLAZEJ_DEV.FORECAST_EXAMPLE.LOBSTER_SALES AS (\n    SELECT\n        timestamp,\n        total_sold\n    FROM\n        BLAZEJ_DEV.FORECAST_EXAMPLE.VANCOUVER_SALES \n    WHERE\n        menu_item_name LIKE 'Lobster Mac & Cheese'\n);",
   "execution_count": null
  },
  {
   "cell_type": "code",
   "id": "8bcb4e2e-432b-4c36-b78b-88ab6893020e",
   "metadata": {
    "language": "sql",
    "name": "cell10",
    "resultHeight": 111
   },
   "outputs": [],
   "source": "// https://docs.snowflake.com/en/sql-reference/functions/system_reference\n// https://docs.snowflake.com/en/developer-guide/stored-procedure/stored-procedures-calling-references#label-reference-object-example\n\n// https://docs.snowflake.com/en/sql-reference/classes/forecast\nCREATE OR REPLACE SNOWFLAKE.ML.FORECAST BLAZEJ_DEV.FORECAST_EXAMPLE.LOBSTER_FORECAST (\n    INPUT_DATA => SYSTEM$REFERENCE('VIEW', 'BLAZEJ_DEV.FORECAST_EXAMPLE.LOBSTER_SALES'),\n    TIMESTAMP_COLNAME => 'TIMESTAMP',\n    TARGET_COLNAME => 'TOTAL_SOLD'\n);",
   "execution_count": null
  },
  {
   "cell_type": "code",
   "id": "7a854ae2-e9a0-47fc-984d-a059f81ed8f3",
   "metadata": {
    "language": "sql",
    "name": "cell11",
    "resultHeight": 111
   },
   "outputs": [],
   "source": "SHOW SNOWFLAKE.ML.FORECAST;",
   "execution_count": null
  },
  {
   "cell_type": "code",
   "id": "557184e5-4b0d-430c-9607-c0ef5e92a98f",
   "metadata": {
    "language": "sql",
    "name": "cell12",
    "resultHeight": 426
   },
   "outputs": [],
   "source": "CALL BLAZEJ_DEV.FORECAST_EXAMPLE.LOBSTER_FORECAST!FORECAST(FORECASTING_PERIODS => 10)",
   "execution_count": null
  },
  {
   "cell_type": "code",
   "id": "ee310d93-5210-485b-9fe5-d39f62827307",
   "metadata": {
    "language": "sql",
    "name": "cell13",
    "resultHeight": 426
   },
   "outputs": [],
   "source": "// UWAGA!! Ta komenda może nie działać poprawnie, query id najlepiej wyciagnac z query history (tylko w przypadku Notebook'ów)!\nSELECT * FROM TABLE(RESULT_SCAN('01b99f98-0004-7475-0003-1b6300056e02'))",
   "execution_count": null
  },
  {
   "cell_type": "code",
   "id": "ae2765b4-a15f-4ad2-bea4-555bc87f2f61",
   "metadata": {
    "language": "sql",
    "name": "cell14",
    "resultHeight": 426
   },
   "outputs": [],
   "source": "// Zapiszmy prognozy do tabeli za pomocą funkcji umożliwiającej odpytywanie wyników przeszłych kwerend\n// https://docs.snowflake.com/en/sql-reference/functions/result_scan\nCREATE OR REPLACE TABLE BLAZEJ_DEV.FORECAST_EXAMPLE.LOBSTER_FORECAST AS (\n    SELECT * FROM TABLE(RESULT_SCAN('01b99f98-0004-7475-0003-1b6300056e02'))\n);\n\nSELECT * FROM BLAZEJ_DEV.FORECAST_EXAMPLE.LOBSTER_FORECAST;",
   "execution_count": null
  },
  {
   "cell_type": "code",
   "id": "99d8ca9f-f9cd-40b4-8045-0b6cbc0bec1b",
   "metadata": {
    "language": "sql",
    "name": "cell15",
    "resultHeight": 438
   },
   "outputs": [],
   "source": "// W notebook, wyswietla sie jedynie wynik końcowy, w worksheet możemy podejrzeć wykres\nSELECT\n    timestamp,\n    total_sold,\n    NULL AS forecast\nFROM\n    BLAZEJ_DEV.FORECAST_EXAMPLE.LOBSTER_SALES\nWHERE\n    timestamp > '2023-03-01'\nUNION\nSELECT\n    TS AS timestamp,\n    NULL AS total_sold,\n    forecast\nFROM\n    BLAZEJ_DEV.FORECAST_EXAMPLE.LOBSTER_FORECAST\nORDER BY\n    timestamp asc;",
   "execution_count": null
  },
  {
   "cell_type": "code",
   "id": "39a1645c-fce0-48ee-98ec-8c9b9ff83167",
   "metadata": {
    "language": "sql",
    "name": "cell16",
    "resultHeight": 438
   },
   "outputs": [],
   "source": "// Prosta zamiana kwerendy aby pokazać ją za pomocą metod Streamlit'owych\n\nSELECT\n    timestamp,\n    total_sold,\n    FALSE AS is_forecast\nFROM\n    BLAZEJ_DEV.FORECAST_EXAMPLE.LOBSTER_SALES\nWHERE\n    timestamp > '2023-03-01'\nUNION\nSELECT\n    TS AS timestamp,\n    forecast AS total_sold,\n    TRUE AS is_forecast\nFROM\n    BLAZEJ_DEV.FORECAST_EXAMPLE.LOBSTER_FORECAST\nORDER BY\n    timestamp asc;",
   "execution_count": null
  },
  {
   "cell_type": "code",
   "id": "4b82f167-ada5-4939-8a81-07b8c102fdd4",
   "metadata": {
    "language": "python",
    "name": "cell17",
    "resultHeight": 419
   },
   "outputs": [],
   "source": "forecast_df = cell16.to_pandas()\n\nst.subheader(\"Prognoza sprzedaży dla Homarów z Mac'n Cheese\")\nst.line_chart(forecast_df, x='TIMESTAMP', y='TOTAL_SOLD', color='IS_FORECAST')\n",
   "execution_count": null
  }
 ]
}